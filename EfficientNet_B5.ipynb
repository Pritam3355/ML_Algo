{
 "cells": [
  {
   "cell_type": "markdown",
   "metadata": {
    "id": "674h3I9UwbYw"
   },
   "source": [
    "## Run on google-colab\n",
    "\n",
    "Problem Statement : Detect name of bacteria causing disease in Tomato & Potato Plant, \n",
    "                    Dataset is limited to these disease only\n",
    "  \n",
    "                    Tomato__Tomato_mosaic_virus\n",
    "                    Potato___Late_blight\n",
    "                    Tomato_healthy\n",
    "                    Pepper__bell___healthy\n",
    "                    Tomato_Early_blight\n",
    "                    Tomato__Tomato_YellowLeaf__Curl_Virus\n",
    "                    Tomato_Spider_mites_Two_spotted_spider_mite\n",
    "                    Tomato_Bacterial_spot\n",
    "                    Tomato_Late_blight\n",
    "                    Potato___Early_blight\n",
    "                    Pepper__bell___Bacterial_spot\n",
    "                    Tomato_Leaf_Mold\n",
    "                    Tomato__Target_Spot\n",
    "                    Potato___healthy\n",
    "                    Tomato_Septoria_leaf_spot\n",
    "\n",
    "Dataset Link : https://www.kaggle.com/datasets/emmarex/plantdisease\n",
    "\n",
    "Solution Approach : \n",
    "We're using Transfer Learning EfficientNet-B5 as it's the state-of-the art model for Image Classifiaction problem\n",
    "\n",
    "![EfficientNet.png](attachment:EfficientNet.png)"
   ]
  },
  {
   "cell_type": "code",
   "execution_count": 45,
   "metadata": {
    "colab": {
     "base_uri": "https://localhost:8080/"
    },
    "id": "ydxjraiLg7yW",
    "outputId": "6c87c98d-9d2c-4789-e42e-050ba50dd525"
   },
   "outputs": [
    {
     "name": "stdout",
     "output_type": "stream",
     "text": [
      "Sun Feb 19 16:25:47 2023       \n",
      "+-----------------------------------------------------------------------------+\n",
      "| NVIDIA-SMI 510.47.03    Driver Version: 510.47.03    CUDA Version: 11.6     |\n",
      "|-------------------------------+----------------------+----------------------+\n",
      "| GPU  Name        Persistence-M| Bus-Id        Disp.A | Volatile Uncorr. ECC |\n",
      "| Fan  Temp  Perf  Pwr:Usage/Cap|         Memory-Usage | GPU-Util  Compute M. |\n",
      "|                               |                      |               MIG M. |\n",
      "|===============================+======================+======================|\n",
      "|   0  Tesla T4            Off  | 00000000:00:04.0 Off |                    0 |\n",
      "| N/A   72C    P0    32W /  70W |   9034MiB / 15360MiB |      0%      Default |\n",
      "|                               |                      |                  N/A |\n",
      "+-------------------------------+----------------------+----------------------+\n",
      "                                                                               \n",
      "+-----------------------------------------------------------------------------+\n",
      "| Processes:                                                                  |\n",
      "|  GPU   GI   CI        PID   Type   Process name                  GPU Memory |\n",
      "|        ID   ID                                                   Usage      |\n",
      "|=============================================================================|\n",
      "|    0   N/A  N/A      2026      C                                    9031MiB |\n",
      "+-----------------------------------------------------------------------------+\n"
     ]
    }
   ],
   "source": [
    "#!lscpu\n",
    "print(!free -h --si | awk  '/Mem:/{print $2}')\n",
    "!nvidia-smi"
   ]
  },
  {
   "cell_type": "code",
   "execution_count": 49,
   "metadata": {
    "colab": {
     "base_uri": "https://localhost:8080/"
    },
    "id": "SgXRDv6AhBlX",
    "outputId": "04745446-dde6-43f6-8b61-5f1d58c69392"
   },
   "outputs": [
    {
     "name": "stdout",
     "output_type": "stream",
     "text": [
      "mkdir: cannot create directory ‘/root/.kaggle’: File exists\n",
      "plantdisease.zip: Skipping, found more recently modified local copy (use --force to force download)\n"
     ]
    }
   ],
   "source": [
    "! mkdir ~/.kaggle\n",
    "! cp kaggle.json ~/.kaggle/\n",
    "! chmod 600 ~/.kaggle/kaggle.json\n",
    "! kaggle datasets download emmarex/plantdisease"
   ]
  },
  {
   "cell_type": "code",
   "execution_count": 51,
   "metadata": {
    "id": "8_eI2sR3hBrh"
   },
   "outputs": [],
   "source": [
    "from zipfile import ZipFile\n",
    "\n",
    "path='/content/plantdisease.zip'\n",
    "zip_ptr = ZipFile(path)\n",
    "zip_ptr.extractall()\n",
    "zip_ptr.close()"
   ]
  },
  {
   "cell_type": "code",
   "execution_count": 52,
   "metadata": {
    "id": "PyMHc7NpZbH_"
   },
   "outputs": [],
   "source": [
    "import cv2\n",
    "import time\n",
    "import scipy as sp\n",
    "import numpy as np\n",
    "import random as rn\n",
    "import pandas as pd\n",
    "from tqdm import tqdm\n",
    "from PIL import Image\n",
    "from functools import partial\n",
    "import matplotlib.pyplot as plt\n",
    "\n",
    "import tensorflow as tf\n",
    "import keras\n",
    "from keras import initializers\n",
    "from keras import regularizers\n",
    "from keras import constraints\n",
    "from keras import backend as K\n",
    "from keras.activations import elu\n",
    "from keras.optimizers import Adam\n",
    "from keras.models import Sequential\n",
    "#from keras.utils.generic_utils import get_custom_objects\n",
    "from keras.callbacks import Callback, EarlyStopping, ReduceLROnPlateau\n",
    "from keras.layers import Dense, Conv2D, Flatten, GlobalAveragePooling2D, Dropout\n",
    "from keras.preprocessing.image import ImageDataGenerator\n",
    "from sklearn.metrics import cohen_kappa_score"
   ]
  },
  {
   "cell_type": "markdown",
   "metadata": {
    "id": "6X2vu_7M8CS_"
   },
   "source": [
    "Input Image Dimensions for different EfficientNet Models:\n",
    "\n",
    "    EfficientNetB0 - (224, 224, 3)\n",
    "    EfficientNetB1 - (240, 240, 3)\n",
    "    EfficientNetB2 - (260, 260, 3)\n",
    "    EfficientNetB3 - (300, 300, 3)\n",
    "    EfficientNetB4 - (380, 380, 3)\n",
    "    EfficientNetB5 - (456, 456, 3)\n",
    "    EfficientNetB6 - (528, 528, 3)\n",
    "    EfficientNetB7 - (600, 600, 3)\n"
   ]
  },
  {
   "cell_type": "code",
   "execution_count": 50,
   "metadata": {
    "id": "s4jVgcEB2YQn"
   },
   "outputs": [],
   "source": [
    "IMG_WIDTH = 456\n",
    "IMG_HEIGHT = 456\n",
    "CHANNELS = 3"
   ]
  },
  {
   "cell_type": "code",
   "execution_count": 54,
   "metadata": {
    "id": "PyWvzJ0Qu2QO"
   },
   "outputs": [],
   "source": [
    "root_dir='/content/PlantVillage'"
   ]
  },
  {
   "cell_type": "code",
   "execution_count": 55,
   "metadata": {
    "colab": {
     "base_uri": "https://localhost:8080/"
    },
    "id": "b6oiFCXshBt-",
    "outputId": "79d53567-bad8-4dab-83eb-33a7302e6514"
   },
   "outputs": [
    {
     "name": "stdout",
     "output_type": "stream",
     "text": [
      "Tomato__Tomato_mosaic_virus\n",
      "Potato___Late_blight\n",
      "Tomato_healthy\n",
      "Pepper__bell___healthy\n",
      "Tomato_Early_blight\n",
      "Tomato__Tomato_YellowLeaf__Curl_Virus\n",
      "Tomato_Spider_mites_Two_spotted_spider_mite\n",
      "Tomato_Bacterial_spot\n",
      "Tomato_Late_blight\n",
      "Potato___Early_blight\n",
      "Pepper__bell___Bacterial_spot\n",
      "Tomato_Leaf_Mold\n",
      "Tomato__Target_Spot\n",
      "Potato___healthy\n",
      "Tomato_Septoria_leaf_spot\n"
     ]
    }
   ],
   "source": [
    "import glob\n",
    "## each folder contain images of one category\n",
    "labels = []\n",
    "for path in glob.glob(f\"{root_dir}/*\"):\n",
    "  label = path.split('/')\n",
    "  print(label[-1])\n",
    "  labels.append(label[-1])\n"
   ]
  },
  {
   "cell_type": "code",
   "execution_count": 56,
   "metadata": {
    "id": "ENK2Cee-MKz3"
   },
   "outputs": [],
   "source": [
    "# from keras.utils.image_utils import img_to_array\n",
    "\n",
    "# def convert_image_to_array(image_dir):\n",
    "#     try:\n",
    "#         image = cv2.imread(image_dir)\n",
    "#         if image is not None :\n",
    "#             image = cv2.resize(image, (224, 224))    #default_image_size\n",
    "#             return img_to_array(image)\n",
    "#         else :\n",
    "#             return np.array([])\n",
    "#     except Exception as e:\n",
    "#         print(f\"Error : {e}\")\n",
    "#         return None"
   ]
  },
  {
   "cell_type": "code",
   "execution_count": 57,
   "metadata": {
    "colab": {
     "base_uri": "https://localhost:8080/"
    },
    "id": "AVU6S9y62awg",
    "outputId": "79659ad3-112b-4416-e276-0ffaa4215a1b"
   },
   "outputs": [
    {
     "name": "stdout",
     "output_type": "stream",
     "text": [
      "checking /content/PlantVillage/Tomato__Tomato_mosaic_virus\n"
     ]
    },
    {
     "name": "stderr",
     "output_type": "stream",
     "text": [
      " 40%|████      | 150/373 [00:00<00:00, 575.12it/s]\n"
     ]
    },
    {
     "name": "stdout",
     "output_type": "stream",
     "text": [
      "checking /content/PlantVillage/Potato___Late_blight\n"
     ]
    },
    {
     "name": "stderr",
     "output_type": "stream",
     "text": [
      " 15%|█▌        | 150/1000 [00:00<00:02, 388.43it/s]\n"
     ]
    },
    {
     "name": "stdout",
     "output_type": "stream",
     "text": [
      "checking /content/PlantVillage/Tomato_healthy\n"
     ]
    },
    {
     "name": "stderr",
     "output_type": "stream",
     "text": [
      "  9%|▉         | 150/1591 [00:00<00:02, 578.71it/s]\n"
     ]
    },
    {
     "name": "stdout",
     "output_type": "stream",
     "text": [
      "checking /content/PlantVillage/Pepper__bell___healthy\n"
     ]
    },
    {
     "name": "stderr",
     "output_type": "stream",
     "text": [
      " 10%|█         | 150/1478 [00:00<00:03, 420.47it/s]\n"
     ]
    },
    {
     "name": "stdout",
     "output_type": "stream",
     "text": [
      "checking /content/PlantVillage/Tomato_Early_blight\n"
     ]
    },
    {
     "name": "stderr",
     "output_type": "stream",
     "text": [
      " 15%|█▌        | 150/1000 [00:00<00:02, 423.13it/s]\n"
     ]
    },
    {
     "name": "stdout",
     "output_type": "stream",
     "text": [
      "checking /content/PlantVillage/Tomato__Tomato_YellowLeaf__Curl_Virus\n"
     ]
    },
    {
     "name": "stderr",
     "output_type": "stream",
     "text": [
      "  5%|▍         | 150/3209 [00:00<00:05, 608.34it/s]\n"
     ]
    },
    {
     "name": "stdout",
     "output_type": "stream",
     "text": [
      "checking /content/PlantVillage/Tomato_Spider_mites_Two_spotted_spider_mite\n"
     ]
    },
    {
     "name": "stderr",
     "output_type": "stream",
     "text": [
      "  9%|▉         | 150/1676 [00:00<00:02, 569.46it/s]\n"
     ]
    },
    {
     "name": "stdout",
     "output_type": "stream",
     "text": [
      "checking /content/PlantVillage/Tomato_Bacterial_spot\n"
     ]
    },
    {
     "name": "stderr",
     "output_type": "stream",
     "text": [
      "  7%|▋         | 150/2127 [00:00<00:05, 383.17it/s]\n"
     ]
    },
    {
     "name": "stdout",
     "output_type": "stream",
     "text": [
      "checking /content/PlantVillage/Tomato_Late_blight\n"
     ]
    },
    {
     "name": "stderr",
     "output_type": "stream",
     "text": [
      "  8%|▊         | 150/1909 [00:00<00:03, 532.24it/s]\n"
     ]
    },
    {
     "name": "stdout",
     "output_type": "stream",
     "text": [
      "checking /content/PlantVillage/Potato___Early_blight\n"
     ]
    },
    {
     "name": "stderr",
     "output_type": "stream",
     "text": [
      " 15%|█▌        | 150/1000 [00:00<00:02, 401.11it/s]\n"
     ]
    },
    {
     "name": "stdout",
     "output_type": "stream",
     "text": [
      "checking /content/PlantVillage/Pepper__bell___Bacterial_spot\n"
     ]
    },
    {
     "name": "stderr",
     "output_type": "stream",
     "text": [
      " 15%|█▌        | 150/997 [00:00<00:02, 376.30it/s]\n"
     ]
    },
    {
     "name": "stdout",
     "output_type": "stream",
     "text": [
      "checking /content/PlantVillage/Tomato_Leaf_Mold\n"
     ]
    },
    {
     "name": "stderr",
     "output_type": "stream",
     "text": [
      " 16%|█▌        | 150/952 [00:00<00:01, 584.53it/s]\n"
     ]
    },
    {
     "name": "stdout",
     "output_type": "stream",
     "text": [
      "checking /content/PlantVillage/Tomato__Target_Spot\n"
     ]
    },
    {
     "name": "stderr",
     "output_type": "stream",
     "text": [
      " 11%|█         | 150/1404 [00:00<00:02, 573.74it/s]\n"
     ]
    },
    {
     "name": "stdout",
     "output_type": "stream",
     "text": [
      "checking /content/PlantVillage/Potato___healthy\n"
     ]
    },
    {
     "name": "stderr",
     "output_type": "stream",
     "text": [
      " 99%|█████████▊| 150/152 [00:00<00:00, 497.57it/s]\n"
     ]
    },
    {
     "name": "stdout",
     "output_type": "stream",
     "text": [
      "checking /content/PlantVillage/Tomato_Septoria_leaf_spot\n"
     ]
    },
    {
     "name": "stderr",
     "output_type": "stream",
     "text": [
      "  8%|▊         | 150/1771 [00:00<00:02, 578.69it/s]\n"
     ]
    }
   ],
   "source": [
    "from tqdm import tqdm\n",
    "import cv2\n",
    "\n",
    "images=[] ## store absolute path of an image \n",
    "image_labels = [] ## label of the images stored in images\n",
    "\n",
    "## each category has different number of images , to create an unbiased classifier we need\n",
    "## to give equal weights to all the classes , here category with lowest no of images is 151\n",
    "## so we're taking 150 images from each category\n",
    "\n",
    "for label in labels:\n",
    "  image_label = root_dir+\"/\"+label\n",
    "  print(f\"checking {image_label}\")\n",
    "  i=0\n",
    "  for path in tqdm(glob.glob(f\"{root_dir}/{label}/*\")):\n",
    "    \n",
    "    if path.endswith(\".jpg\") or path.endswith(\".JPG\"):\n",
    "      i+=1\n",
    "      if i>150: break\n",
    "      image = cv2.imread(path)\n",
    "      if image is not None:\n",
    "        image = cv2.resize(image,(IMG_WIDTH,IMG_HEIGHT))\n",
    "        images.append(path)\n",
    "        image_labels.append(label)\n"
   ]
  },
  {
   "cell_type": "code",
   "execution_count": 58,
   "metadata": {
    "colab": {
     "base_uri": "https://localhost:8080/",
     "height": 244
    },
    "id": "T6TrkK2mKYU1",
    "outputId": "015a28b4-38f3-41b2-d9b9-c41e0ae822f8"
   },
   "outputs": [
    {
     "name": "stdout",
     "output_type": "stream",
     "text": [
      "{'Pepper__bell___Bacterial_spot': 0, 'Pepper__bell___healthy': 1, 'Potato___Early_blight': 2, 'Potato___Late_blight': 3, 'Potato___healthy': 4, 'Tomato_Bacterial_spot': 5, 'Tomato_Early_blight': 6, 'Tomato_Late_blight': 7, 'Tomato_Leaf_Mold': 8, 'Tomato_Septoria_leaf_spot': 9, 'Tomato_Spider_mites_Two_spotted_spider_mite': 10, 'Tomato__Target_Spot': 11, 'Tomato__Tomato_YellowLeaf__Curl_Virus': 12, 'Tomato__Tomato_mosaic_virus': 13, 'Tomato_healthy': 14}\n"
     ]
    },
    {
     "data": {
      "text/html": [
       "\n",
       "  <div id=\"df-748730bf-223d-45a9-bf7d-321fee8c7797\">\n",
       "    <div class=\"colab-df-container\">\n",
       "      <div>\n",
       "<style scoped>\n",
       "    .dataframe tbody tr th:only-of-type {\n",
       "        vertical-align: middle;\n",
       "    }\n",
       "\n",
       "    .dataframe tbody tr th {\n",
       "        vertical-align: top;\n",
       "    }\n",
       "\n",
       "    .dataframe thead th {\n",
       "        text-align: right;\n",
       "    }\n",
       "</style>\n",
       "<table border=\"1\" class=\"dataframe\">\n",
       "  <thead>\n",
       "    <tr style=\"text-align: right;\">\n",
       "      <th></th>\n",
       "      <th>image</th>\n",
       "      <th>class</th>\n",
       "      <th>class_id</th>\n",
       "    </tr>\n",
       "  </thead>\n",
       "  <tbody>\n",
       "    <tr>\n",
       "      <th>7</th>\n",
       "      <td>/content/PlantVillage/Tomato__Tomato_mosaic_vi...</td>\n",
       "      <td>Tomato__Tomato_mosaic_virus</td>\n",
       "      <td>13</td>\n",
       "    </tr>\n",
       "    <tr>\n",
       "      <th>1112</th>\n",
       "      <td>/content/PlantVillage/Tomato_Bacterial_spot/8e...</td>\n",
       "      <td>Tomato_Bacterial_spot</td>\n",
       "      <td>5</td>\n",
       "    </tr>\n",
       "    <tr>\n",
       "      <th>1813</th>\n",
       "      <td>/content/PlantVillage/Tomato__Target_Spot/9414...</td>\n",
       "      <td>Tomato__Target_Spot</td>\n",
       "      <td>11</td>\n",
       "    </tr>\n",
       "    <tr>\n",
       "      <th>164</th>\n",
       "      <td>/content/PlantVillage/Potato___Late_blight/f79...</td>\n",
       "      <td>Potato___Late_blight</td>\n",
       "      <td>3</td>\n",
       "    </tr>\n",
       "    <tr>\n",
       "      <th>56</th>\n",
       "      <td>/content/PlantVillage/Tomato__Tomato_mosaic_vi...</td>\n",
       "      <td>Tomato__Tomato_mosaic_virus</td>\n",
       "      <td>13</td>\n",
       "    </tr>\n",
       "  </tbody>\n",
       "</table>\n",
       "</div>\n",
       "      <button class=\"colab-df-convert\" onclick=\"convertToInteractive('df-748730bf-223d-45a9-bf7d-321fee8c7797')\"\n",
       "              title=\"Convert this dataframe to an interactive table.\"\n",
       "              style=\"display:none;\">\n",
       "        \n",
       "  <svg xmlns=\"http://www.w3.org/2000/svg\" height=\"24px\"viewBox=\"0 0 24 24\"\n",
       "       width=\"24px\">\n",
       "    <path d=\"M0 0h24v24H0V0z\" fill=\"none\"/>\n",
       "    <path d=\"M18.56 5.44l.94 2.06.94-2.06 2.06-.94-2.06-.94-.94-2.06-.94 2.06-2.06.94zm-11 1L8.5 8.5l.94-2.06 2.06-.94-2.06-.94L8.5 2.5l-.94 2.06-2.06.94zm10 10l.94 2.06.94-2.06 2.06-.94-2.06-.94-.94-2.06-.94 2.06-2.06.94z\"/><path d=\"M17.41 7.96l-1.37-1.37c-.4-.4-.92-.59-1.43-.59-.52 0-1.04.2-1.43.59L10.3 9.45l-7.72 7.72c-.78.78-.78 2.05 0 2.83L4 21.41c.39.39.9.59 1.41.59.51 0 1.02-.2 1.41-.59l7.78-7.78 2.81-2.81c.8-.78.8-2.07 0-2.86zM5.41 20L4 18.59l7.72-7.72 1.47 1.35L5.41 20z\"/>\n",
       "  </svg>\n",
       "      </button>\n",
       "      \n",
       "  <style>\n",
       "    .colab-df-container {\n",
       "      display:flex;\n",
       "      flex-wrap:wrap;\n",
       "      gap: 12px;\n",
       "    }\n",
       "\n",
       "    .colab-df-convert {\n",
       "      background-color: #E8F0FE;\n",
       "      border: none;\n",
       "      border-radius: 50%;\n",
       "      cursor: pointer;\n",
       "      display: none;\n",
       "      fill: #1967D2;\n",
       "      height: 32px;\n",
       "      padding: 0 0 0 0;\n",
       "      width: 32px;\n",
       "    }\n",
       "\n",
       "    .colab-df-convert:hover {\n",
       "      background-color: #E2EBFA;\n",
       "      box-shadow: 0px 1px 2px rgba(60, 64, 67, 0.3), 0px 1px 3px 1px rgba(60, 64, 67, 0.15);\n",
       "      fill: #174EA6;\n",
       "    }\n",
       "\n",
       "    [theme=dark] .colab-df-convert {\n",
       "      background-color: #3B4455;\n",
       "      fill: #D2E3FC;\n",
       "    }\n",
       "\n",
       "    [theme=dark] .colab-df-convert:hover {\n",
       "      background-color: #434B5C;\n",
       "      box-shadow: 0px 1px 3px 1px rgba(0, 0, 0, 0.15);\n",
       "      filter: drop-shadow(0px 1px 2px rgba(0, 0, 0, 0.3));\n",
       "      fill: #FFFFFF;\n",
       "    }\n",
       "  </style>\n",
       "\n",
       "      <script>\n",
       "        const buttonEl =\n",
       "          document.querySelector('#df-748730bf-223d-45a9-bf7d-321fee8c7797 button.colab-df-convert');\n",
       "        buttonEl.style.display =\n",
       "          google.colab.kernel.accessAllowed ? 'block' : 'none';\n",
       "\n",
       "        async function convertToInteractive(key) {\n",
       "          const element = document.querySelector('#df-748730bf-223d-45a9-bf7d-321fee8c7797');\n",
       "          const dataTable =\n",
       "            await google.colab.kernel.invokeFunction('convertToInteractive',\n",
       "                                                     [key], {});\n",
       "          if (!dataTable) return;\n",
       "\n",
       "          const docLinkHtml = 'Like what you see? Visit the ' +\n",
       "            '<a target=\"_blank\" href=https://colab.research.google.com/notebooks/data_table.ipynb>data table notebook</a>'\n",
       "            + ' to learn more about interactive tables.';\n",
       "          element.innerHTML = '';\n",
       "          dataTable['output_type'] = 'display_data';\n",
       "          await google.colab.output.renderOutput(dataTable, element);\n",
       "          const docLink = document.createElement('div');\n",
       "          docLink.innerHTML = docLinkHtml;\n",
       "          element.appendChild(docLink);\n",
       "        }\n",
       "      </script>\n",
       "    </div>\n",
       "  </div>\n",
       "  "
      ],
      "text/plain": [
       "                                                  image  \\\n",
       "7     /content/PlantVillage/Tomato__Tomato_mosaic_vi...   \n",
       "1112  /content/PlantVillage/Tomato_Bacterial_spot/8e...   \n",
       "1813  /content/PlantVillage/Tomato__Target_Spot/9414...   \n",
       "164   /content/PlantVillage/Potato___Late_blight/f79...   \n",
       "56    /content/PlantVillage/Tomato__Tomato_mosaic_vi...   \n",
       "\n",
       "                            class class_id  \n",
       "7     Tomato__Tomato_mosaic_virus       13  \n",
       "1112        Tomato_Bacterial_spot        5  \n",
       "1813          Tomato__Target_Spot       11  \n",
       "164          Potato___Late_blight        3  \n",
       "56    Tomato__Tomato_mosaic_virus       13  "
      ]
     },
     "execution_count": 58,
     "metadata": {},
     "output_type": "execute_result"
    }
   ],
   "source": [
    "from sklearn import preprocessing\n",
    "\n",
    "df=pd.DataFrame(images,columns=['image'])\n",
    "df['class']=image_labels\n",
    "df = df.sample(frac = 1)\n",
    "\n",
    "label_encoder = preprocessing.LabelEncoder()\n",
    "df['class_id']= label_encoder.fit_transform(df['class'])\n",
    "category_mapping = dict(zip(label_encoder.classes_, label_encoder.transform(label_encoder.classes_)))\n",
    "df['class_id']=df['class_id'].astype('str')\n",
    "## map -> class : class_id\n",
    "print(category_mapping)\n",
    "df.head(5)"
   ]
  },
  {
   "cell_type": "code",
   "execution_count": 59,
   "metadata": {
    "id": "EhhNGJoKOfJj"
   },
   "outputs": [],
   "source": [
    "import os,shutil\n",
    "\n",
    "#category_ids = df.category_id.unique()\n",
    "\n",
    "TRAIN_IMAGES_PATH='/content/train'\n",
    "VAL_IMAGES_PATH='/content/val'\n",
    "os.makedirs(TRAIN_IMAGES_PATH,exist_ok=True)\n",
    "os.makedirs(VAL_IMAGES_PATH,exist_ok=True)\n",
    "\n",
    "## create a train & test folder \n",
    "## inside train there are sub-folders with absolute path of images \n",
    "## name of each sub-folder is the name of the class for which the sub-folder contains\n",
    "## images of\n",
    "\n",
    "for class_id in [x for x in range(len(labels))]:\n",
    "  os.makedirs(os.path.join(TRAIN_IMAGES_PATH, str(class_id)),exist_ok=True)\n",
    "  os.makedirs(os.path.join(VAL_IMAGES_PATH, str(class_id)),exist_ok=True)\n"
   ]
  },
  {
   "cell_type": "code",
   "execution_count": 60,
   "metadata": {
    "colab": {
     "base_uri": "https://localhost:8080/"
    },
    "id": "EoqlfjqlVbvg",
    "outputId": "2f942571-679f-4516-e392-2bcf9de2fd80"
   },
   "outputs": [
    {
     "name": "stderr",
     "output_type": "stream",
     "text": [
      "100%|██████████| 1800/1800 [00:00<00:00, 2443.72it/s]\n",
      "100%|██████████| 450/450 [00:00<00:00, 2985.29it/s]\n"
     ]
    }
   ],
   "source": [
    "from sklearn.model_selection import train_test_split\n",
    "\n",
    "def preprocess_data(df,image_path):\n",
    "  for index,row in tqdm(df.iterrows(),total=len(df)):\n",
    "    idx = row[\"class_id\"]\n",
    "    shutil.copy(row[\"image\"],os.path.join(image_path, str(idx)))\n",
    "\n",
    "df_train, df_valid = train_test_split(df, test_size=0.2, random_state=42, shuffle=True)\n",
    "preprocess_data(df_train, TRAIN_IMAGES_PATH)\n",
    "preprocess_data(df_valid, VAL_IMAGES_PATH)"
   ]
  },
  {
   "cell_type": "code",
   "execution_count": 61,
   "metadata": {
    "id": "Yh0Cr1Cp3Bta"
   },
   "outputs": [],
   "source": [
    "NUMBER_OF_TRAINING_IMAGES = 1800\n",
    "NUMBER_OF_VALIDATION_IMAGES = 450\n",
    "BATCH_SIZE = 4\n",
    "EPOCHS = 20"
   ]
  },
  {
   "cell_type": "code",
   "execution_count": 62,
   "metadata": {
    "colab": {
     "base_uri": "https://localhost:8080/"
    },
    "id": "rM0eVJd5Nrst",
    "outputId": "cb143695-6d68-425e-f623-ea24fd25a1db"
   },
   "outputs": [
    {
     "name": "stdout",
     "output_type": "stream",
     "text": [
      "Found 2166 images belonging to 15 classes.\n",
      "Found 816 images belonging to 15 classes.\n"
     ]
    }
   ],
   "source": [
    "from keras.preprocessing.image import ImageDataGenerator\n",
    "\n",
    "\n",
    "train_datagen = ImageDataGenerator(\n",
    "    rescale=1.0 / 255,\n",
    "    rotation_range=40,\n",
    "    width_shift_range=0.2,\n",
    "    height_shift_range=0.2,\n",
    "    shear_range=0.2,\n",
    "    zoom_range=0.2,\n",
    "    horizontal_flip=True,\n",
    "    fill_mode=\"nearest\",\n",
    ")# Note that the validation data should not be augmented!#and a very important step is to normalise the images through  rescaling\n",
    "test_datagen = ImageDataGenerator(rescale=1.0 / 255)\n",
    "train_generator = train_datagen.flow_from_directory(\n",
    "    # This is the target directory\n",
    "    TRAIN_IMAGES_PATH,\n",
    "    # All images will be resized to target height and width.\n",
    "    target_size=(IMG_WIDTH,IMG_HEIGHT),\n",
    "    batch_size=BATCH_SIZE,\n",
    "    # Since we use categorical_crossentropy loss, we need categorical labels\n",
    "    class_mode=\"categorical\",\n",
    ")\n",
    "validation_generator = test_datagen.flow_from_directory(\n",
    "    VAL_IMAGES_PATH,\n",
    "    target_size=(IMG_WIDTH,IMG_HEIGHT),\n",
    "    batch_size=BATCH_SIZE,\n",
    "    class_mode=\"categorical\",\n",
    ")\n"
   ]
  },
  {
   "attachments": {
    "normalizations.jpg": {
     "image/jpeg": "[encoded data removed]"
    }
   },
   "cell_type": "markdown",
   "metadata": {},
   "source": [
    "Batch Normalization becomes unstable with small batch sizes (<16) and that is why we use Group Normalization layers instead.\n",
    "\n",
    "source : https://github.com/titu1994/Keras-Group-Normalization/blob/master/group_norm.py\n",
    "![normalizations.jpg](attachment:normalizations.jpg)"
   ]
  },
  {
   "cell_type": "code",
   "execution_count": null,
   "metadata": {},
   "outputs": [],
   "source": [
    "class GroupNormalization(tf.keras.layers.Layer):\n",
    "    \"\"\"\n",
    "    source : https://github.com/titu1994/Keras-Group-Normalization/blob/master/group_norm.py\n",
    "    Group normalization layer\n",
    "    Group Normalization divides the channels into groups and computes within each group\n",
    "    the mean and variance for normalization. GN's computation is independent of batch sizes,\n",
    "    and its accuracy is stable in a wide range of batch sizes\n",
    "    # Arguments\n",
    "        groups: Integer, the number of groups for Group Normalization.\n",
    "        axis: Integer, the axis that should be normalized\n",
    "            (typically the features axis).\n",
    "            For instance, after a `Conv2D` layer with\n",
    "            `data_format=\"channels_first\"`,\n",
    "            set `axis=1` in `BatchNormalization`.\n",
    "        epsilon: Small float added to variance to avoid dividing by zero.\n",
    "        center: If True, add offset of `beta` to normalized tensor.\n",
    "            If False, `beta` is ignored.\n",
    "        scale: If True, multiply by `gamma`.\n",
    "            If False, `gamma` is not used.\n",
    "            When the next layer is linear (also e.g. `nn.relu`),\n",
    "            this can be disabled since the scaling\n",
    "            will be done by the next layer.\n",
    "        beta_initializer: Initializer for the beta weight.\n",
    "        gamma_initializer: Initializer for the gamma weight.\n",
    "        beta_regularizer: Optional regularizer for the beta weight.\n",
    "        gamma_regularizer: Optional regularizer for the gamma weight.\n",
    "        beta_constraint: Optional constraint for the beta weight.\n",
    "        gamma_constraint: Optional constraint for the gamma weight.\n",
    "    # Input shape\n",
    "        Arbitrary. Use the keyword argument `input_shape`\n",
    "        (tuple of integers, does not include the samples axis)\n",
    "        when using this layer as the first layer in a model.\n",
    "    # Output shape\n",
    "        Same shape as input.\n",
    "    # References\n",
    "        - [Group Normalization](https://arxiv.org/abs/1803.08494)\n",
    "    \"\"\"\n",
    "\n",
    "    def __init__(self,\n",
    "                 groups=32,\n",
    "                 axis=-1,\n",
    "                 epsilon=1e-5,\n",
    "                 center=True,\n",
    "                 scale=True,\n",
    "                 beta_initializer='zeros',\n",
    "                 gamma_initializer='ones',\n",
    "                 beta_regularizer=None,\n",
    "                 gamma_regularizer=None,\n",
    "                 beta_constraint=None,\n",
    "                 gamma_constraint=None,\n",
    "                 **kwargs):\n",
    "        super(GroupNormalization, self).__init__(**kwargs)\n",
    "        self.supports_masking = True\n",
    "        self.groups = groups\n",
    "        self.axis = axis\n",
    "        self.epsilon = epsilon\n",
    "        self.center = center\n",
    "        self.scale = scale\n",
    "        self.beta_initializer = initializers.get(beta_initializer)\n",
    "        self.gamma_initializer = initializers.get(gamma_initializer)\n",
    "        self.beta_regularizer = regularizers.get(beta_regularizer)\n",
    "        self.gamma_regularizer = regularizers.get(gamma_regularizer)\n",
    "        self.beta_constraint = constraints.get(beta_constraint)\n",
    "        self.gamma_constraint = constraints.get(gamma_constraint)\n",
    "\n",
    "    def build(self, input_shape):\n",
    "        dim = input_shape[self.axis]\n",
    "\n",
    "        if dim is None:\n",
    "            raise ValueError('Axis ' + str(self.axis) + ' of '\n",
    "                             'input tensor should have a defined dimension '\n",
    "                             'but the layer received an input with shape ' +\n",
    "                             str(input_shape) + '.')\n",
    "\n",
    "        if dim < self.groups:\n",
    "            raise ValueError('Number of groups (' + str(self.groups) + ') cannot be '\n",
    "                             'more than the number of channels (' +\n",
    "                             str(dim) + ').')\n",
    "\n",
    "        if dim % self.groups != 0:\n",
    "            raise ValueError('Number of groups (' + str(self.groups) + ') must be a '\n",
    "                             'multiple of the number of channels (' +\n",
    "                             str(dim) + ').')\n",
    "\n",
    "        self.input_spec = tf.keras.layers.InputSpec(ndim=len(input_shape),\n",
    "                                    axes={self.axis: dim})\n",
    "        shape = (dim,)\n",
    "\n",
    "        if self.scale:\n",
    "            self.gamma = self.add_weight(shape=shape,\n",
    "                                         name='gamma',\n",
    "                                         initializer=self.gamma_initializer,\n",
    "                                         regularizer=self.gamma_regularizer,\n",
    "                                         constraint=self.gamma_constraint)\n",
    "        else:\n",
    "            self.gamma = None\n",
    "        if self.center:\n",
    "            self.beta = self.add_weight(shape=shape,\n",
    "                                        name='beta',\n",
    "                                        initializer=self.beta_initializer,\n",
    "                                        regularizer=self.beta_regularizer,\n",
    "                                        constraint=self.beta_constraint)\n",
    "        else:\n",
    "            self.beta = None\n",
    "        self.built = True\n",
    "\n",
    "    def call(self, inputs, **kwargs):\n",
    "        input_shape = K.int_shape(inputs)\n",
    "        tensor_input_shape = K.shape(inputs)\n",
    "\n",
    "        # Prepare broadcasting shape.\n",
    "        reduction_axes = list(range(len(input_shape)))\n",
    "        del reduction_axes[self.axis]\n",
    "        broadcast_shape = [1] * len(input_shape)\n",
    "        broadcast_shape[self.axis] = input_shape[self.axis] // self.groups\n",
    "        broadcast_shape.insert(1, self.groups)\n",
    "\n",
    "        reshape_group_shape = K.shape(inputs)\n",
    "        group_axes = [reshape_group_shape[i] for i in range(len(input_shape))]\n",
    "        group_axes[self.axis] = input_shape[self.axis] // self.groups\n",
    "        group_axes.insert(1, self.groups)\n",
    "\n",
    "        # reshape inputs to new group shape\n",
    "        group_shape = [group_axes[0], self.groups] + group_axes[2:]\n",
    "        group_shape = K.stack(group_shape)\n",
    "        inputs = K.reshape(inputs, group_shape)\n",
    "\n",
    "        group_reduction_axes = list(range(len(group_axes)))\n",
    "        group_reduction_axes = group_reduction_axes[2:]\n",
    "\n",
    "        mean = K.mean(inputs, axis=group_reduction_axes, keepdims=True)\n",
    "        variance = K.var(inputs, axis=group_reduction_axes, keepdims=True)\n",
    "\n",
    "        inputs = (inputs - mean) / (K.sqrt(variance + self.epsilon))\n",
    "\n",
    "        # prepare broadcast shape\n",
    "        inputs = K.reshape(inputs, group_shape)\n",
    "        outputs = inputs\n",
    "\n",
    "        # In this case we must explicitly broadcast all parameters.\n",
    "        if self.scale:\n",
    "            broadcast_gamma = K.reshape(self.gamma, broadcast_shape)\n",
    "            outputs = outputs * broadcast_gamma\n",
    "\n",
    "        if self.center:\n",
    "            broadcast_beta = K.reshape(self.beta, broadcast_shape)\n",
    "            outputs = outputs + broadcast_beta\n",
    "\n",
    "        outputs = K.reshape(outputs, tensor_input_shape)\n",
    "\n",
    "        return outputs\n",
    "\n",
    "    def get_config(self):\n",
    "        config = {\n",
    "            'groups': self.groups,\n",
    "            'axis': self.axis,\n",
    "            'epsilon': self.epsilon,\n",
    "            'center': self.center,\n",
    "            'scale': self.scale,\n",
    "            'beta_initializer': initializers.serialize(self.beta_initializer),\n",
    "            'gamma_initializer': initializers.serialize(self.gamma_initializer),\n",
    "            'beta_regularizer': regularizers.serialize(self.beta_regularizer),\n",
    "            'gamma_regularizer': regularizers.serialize(self.gamma_regularizer),\n",
    "            'beta_constraint': constraints.serialize(self.beta_constraint),\n",
    "            'gamma_constraint': constraints.serialize(self.gamma_constraint)\n",
    "        }\n",
    "        base_config = super(GroupNormalization, self).get_config()\n",
    "        return dict(list(base_config.items()) + list(config.items()))\n",
    "\n",
    "    def compute_output_shape(self, input_shape):\n",
    "        return input_shape\n"
   ]
  },
  {
   "cell_type": "code",
   "execution_count": 63,
   "metadata": {
    "id": "qoL2q7RdHXeT"
   },
   "outputs": [],
   "source": [
    "from keras.applications import EfficientNetB5\n",
    "\n",
    "\n",
    "efficient_net = EfficientNetB5(\n",
    "    weights=\"imagenet\",\n",
    "    input_shape=(IMG_WIDTH,IMG_HEIGHT,CHANNELS),\n",
    "    include_top=False,\n",
    "    pooling='max'\n",
    ")\n",
    "#efficient_net.load_weights('/content/efficientnet-b5_imagenet_1000_notop.h5')\n",
    "\n",
    "## replace batch_normalization with GroupNormalization\n",
    "for i, layer in enumerate(efficient_net.layers):\n",
    "    if \"batch_normalization\" in layer.name:\n",
    "        efficient_net.layers[i] = GroupNormalization(groups=32, axis=-1, epsilon=0.00001)\n",
    "\n",
    "efficient_net.trainable = False\n",
    "for layer in efficient_net.layers[-20:]:\n",
    "        if not isinstance(layer, GroupNormalization):\n",
    "            layer.trainable = True\n"
   ]
  },
  {
   "cell_type": "code",
   "execution_count": 64,
   "metadata": {
    "colab": {
     "base_uri": "https://localhost:8080/"
    },
    "id": "J1bk1EmrHhFx",
    "outputId": "be652124-e2e1-42fc-fce5-a85d5eec095c"
   },
   "outputs": [
    {
     "name": "stdout",
     "output_type": "stream",
     "text": [
      "Model: \"sequential_1\"\n",
      "_________________________________________________________________\n",
      " Layer (type)                Output Shape              Param #   \n",
      "=================================================================\n",
      " efficientnetb5 (Functional)  (None, 2048)             28513527  \n",
      "                                                                 \n",
      " dense_1_out (Dense)         (None, 120)               245880    \n",
      "                                                                 \n",
      " dropout_out (Dropout)       (None, 120)               0         \n",
      "                                                                 \n",
      " dense_2_out (Dense)         (None, 120)               14520     \n",
      "                                                                 \n",
      " fc_out (Dense)              (None, 15)                1815      \n",
      "                                                                 \n",
      "=================================================================\n",
      "Total params: 28,775,742\n",
      "Trainable params: 262,215\n",
      "Non-trainable params: 28,513,527\n",
      "_________________________________________________________________\n"
     ]
    }
   ],
   "source": [
    "def build_model(efficient_net):\n",
    "    model = Sequential()\n",
    "    model.add(efficient_net)\n",
    "    #model.add(GlobalMaxPooling2D(name=\"gap\"))\n",
    "    model.add(Dense(units = 120, activation='relu',name=\"dense_1_out\"))\n",
    "\n",
    "    model.add(Dropout(rate=0.2, name=\"dropout_out\"))\n",
    "    model.add(Dense(units = 120, activation = 'relu',name=\"dense_2_out\"))\n",
    "    model.add(Dense(units = 15, activation='softmax',name=\"fc_out\"))\n",
    "    model.summary()\n",
    "    return model\n",
    "\n",
    "\n",
    "model = build_model(efficient_net)"
   ]
  },
  {
   "cell_type": "code",
   "execution_count": 65,
   "metadata": {
    "id": "7dhKsV7ph7Gx"
   },
   "outputs": [],
   "source": [
    "from keras.optimizers import RMSprop\n",
    "model.compile(\n",
    "    loss=\"categorical_crossentropy\",\n",
    "    optimizer=RMSprop(learning_rate=2e-5),\n",
    "    metrics=[\"accuracy\"]\n",
    ")"
   ]
  },
  {
   "cell_type": "code",
   "execution_count": null,
   "metadata": {
    "colab": {
     "base_uri": "https://localhost:8080/"
    },
    "id": "-C7ZbY08Ilyy",
    "outputId": "67bcaa92-9602-4409-b0ad-60dd88fdd12d"
   },
   "outputs": [
    {
     "name": "stdout",
     "output_type": "stream",
     "text": [
      "Epoch 1/20\n",
      "450/450 [==============================] - ETA: 0s - loss: 5.3620 - accuracy: 0.0712"
     ]
    }
   ],
   "source": [
    "# callbacks to avoid overfitting and save best model\n",
    "es = EarlyStopping(monitor='val_loss', mode='auto', verbose=1, patience=2)\n",
    "rlr = ReduceLROnPlateau(monitor='val_loss', \n",
    "                        factor=0.5, \n",
    "                        patience=2, \n",
    "                        verbose=1, \n",
    "                        mode='auto', \n",
    "                        min_delta=0.0001)\n",
    "\n",
    "history = model.fit(train_generator,\n",
    "                    steps_per_epoch=NUMBER_OF_TRAINING_IMAGES//BATCH_SIZE,epochs=EPOCHS,\n",
    "                    validation_data=validation_generator,\n",
    "                    validation_steps = NUMBER_OF_VALIDATION_IMAGES//BATCH_SIZE,\n",
    "                    callbacks=[es, rlr],verbose=1,\n",
    "                    use_multiprocessing=True,workers=4)\n"
   ]
  },
  {
   "cell_type": "code",
   "execution_count": null,
   "metadata": {
    "id": "figQn7wkbPr3"
   },
   "outputs": [],
   "source": [
    "#model.save(\"EfficientNetB5.hd5\")"
   ]
  },
  {
   "cell_type": "code",
   "execution_count": null,
   "metadata": {
    "id": "IT6WIIp_cBTB"
   },
   "outputs": [],
   "source": [
    "model.save_weights(\"EfficientNetB5_weights.hd5\")"
   ]
  },
  {
   "cell_type": "code",
   "execution_count": null,
   "metadata": {
    "id": "3EpYeYuKcIBW"
   },
   "outputs": [],
   "source": [
    "# !zip -r ENet.zip /content/EfficientNetB5.hd5\n",
    "# model = keras.models.load_model('/content/EfficientNetB5.hd5')"
   ]
  },
  {
   "cell_type": "code",
   "execution_count": null,
   "metadata": {
    "id": "JNvOE-b2gdiE"
   },
   "outputs": [],
   "source": [
    "import matplotlib.pyplot as plt\n",
    "\n",
    "def plot_hist(history):\n",
    "    plt.plot(history.history[\"accuracy\"])\n",
    "    plt.plot(history.history[\"val_accuracy\"])\n",
    "    plt.title(\"model accuracy\")\n",
    "    plt.ylabel(\"accuracy\")\n",
    "    plt.xlabel(\"epoch\")\n",
    "    plt.legend([\"train\", \"validation\"], loc=\"upper left\")\n",
    "    plt.show()\n",
    "\n",
    "\n",
    "plot_hist(history)"
   ]
  },
  {
   "cell_type": "code",
   "execution_count": null,
   "metadata": {
    "id": "jNBbfLBF1Tp5"
   },
   "outputs": [],
   "source": [
    "category_mapping"
   ]
  },
  {
   "cell_type": "code",
   "execution_count": null,
   "metadata": {
    "id": "7BRlOhc0gdfW"
   },
   "outputs": [],
   "source": [
    "from keras.utils import img_to_array\n",
    "\n",
    "# test = df.sample(frac=0.2)\n",
    "# X_test = test.drop(columns=[\"class\",\"class_id\"])\n",
    "# y_test = test[\"class_id\"]\n",
    "# for idx,row in tqdm(X_test.iterrows(),total=len(X_test)):\n",
    "#   img = cv2.imread(row[\"image\"])\n",
    "#   img = img_to_array(img)\n",
    "#   X_test.loc[idx][\"image\"]=img\n",
    "# # X_test_new = pd.DataFrame(columns=[\"image\"])\n",
    "# test_datagen = ImageDataGenerator(rescale=1.0 / 255)\n",
    "# test_generator = test_datagen.flow(\n",
    "#     X_test,y_test, #flow_from_directory -> don't need it\n",
    "#     #target_size=(224,224),\n",
    "#     batch_size=16,\n",
    "#     # Since we use categorical_crossentropy loss, we need categorical labels\n",
    "#     #class_mode=\"categorical\",\n",
    "# )\n",
    "\n",
    "path='/content/peper_bell_bacteria.jpeg'\n",
    "img = cv2.imread(path)\n",
    "img = cv2.resize(img,(IMG_WIDTH,IMG_HEIGHT))\n",
    "\n",
    "X_test = img_to_array(img).reshape(-1,IMG_WIDTH,IMG_HEIGHT,CHANNELS)\n",
    "y_test = 0\n",
    "\n",
    "y_pred = model.predict(X_test)\n",
    "y_pred = np.argmax(y_pred)\n",
    "\n",
    "for key,val in category_mapping.items():\n",
    "  if val==y_pred:\n",
    "    print(key)\n",
    "    \n",
    "plt.imshow(img)"
   ]
  },
  {
   "cell_type": "code",
   "execution_count": null,
   "metadata": {
    "id": "yxEWQgN4PSb2"
   },
   "outputs": [],
   "source": [
    "path='/content/Tomato-Leaf-Curl.jpg'\n",
    "img = cv2.imread(path)\n",
    "img = cv2.resize(img,(IMG_WIDTH,IMG_HEIGHT))\n",
    "\n",
    "X_test = img_to_array(img).reshape(-1,IMG_WIDTH,IMG_HEIGHT,CHANNELS)\n",
    "y_test = 0\n",
    "\n",
    "y_pred = model.predict(X_test)\n",
    "y_pred = np.argmax(y_pred)\n",
    "\n",
    "for key,val in category_mapping.items():\n",
    "  if val==y_pred:\n",
    "    print(key)\n",
    "    \n",
    "plt.imshow(img)"
   ]
  },
  {
   "cell_type": "code",
   "execution_count": null,
   "metadata": {
    "id": "7FSo2XHzdg96"
   },
   "outputs": [],
   "source": []
  },
  {
   "cell_type": "code",
   "execution_count": null,
   "metadata": {
    "id": "jZBRYlquezkX"
   },
   "outputs": [],
   "source": [
    "#"
   ]
  }
 ],
 "metadata": {
  "accelerator": "GPU",
  "colab": {
   "provenance": []
  },
  "gpuClass": "standard",
  "kernelspec": {
   "display_name": "Python 3 (ipykernel)",
   "language": "python",
   "name": "python3"
  },
  "language_info": {
   "codemirror_mode": {
    "name": "ipython",
    "version": 3
   },
   "file_extension": ".py",
   "mimetype": "text/x-python",
   "name": "python",
   "nbconvert_exporter": "python",
   "pygments_lexer": "ipython3",
   "version": "3.10.9"
  }
 },
 "nbformat": 4,
 "nbformat_minor": 1
}
